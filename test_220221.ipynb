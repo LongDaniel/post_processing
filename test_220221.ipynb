{
 "cells": [
  {
   "cell_type": "markdown",
   "metadata": {},
   "source": [
    "In this part we are going to extract the vertical flux of kinetic energy.\n",
    "The Reynold shear stress and carnopy shear stress we have in the get_Reynolds by Long.\n",
    "The mean velocity we have in the get velocity profile part.\n",
    "I have two plan.\n",
    "Plan number one import two part into this file\n",
    "Plan number two open data file of each part"
   ]
  },
  {
   "cell_type": "markdown",
   "metadata": {},
   "source": [
    "Every thing is the same. So don't worry."
   ]
  },
  {
   "cell_type": "code",
   "execution_count": 107,
   "metadata": {},
   "outputs": [],
   "source": [
    "#import necessary libraries\n",
    "import numpy as np\n",
    "import matplotlib as mpl\n",
    "import matplotlib.pyplot as plt\n",
    "import os\n",
    "import pandas as pd\n",
    "import tecplot_io as tec\n",
    "import h5py\n",
    "import matplotlib.ticker as tck\n"
   ]
  },
  {
   "cell_type": "code",
   "execution_count": 108,
   "metadata": {},
   "outputs": [],
   "source": [
    "def get_dispersive_shear_stress(path):\n",
    "    os.chdir(path)\n",
    "    print(\"current working directory is: {0}\".format(os.getcwd()))\n",
    "    #open nessesary file\n",
    "    fname = 'mean_field_3d.h5'\n",
    "    f = h5py.File(fname, \"r\")\n",
    "    u = f[\"u\"]\n",
    "    v = f[\"v\"]\n",
    "    w2 = f[\"w\"]\n",
    "    w = np.array(w2).copy()\n",
    "    #get mean velocity profile\n",
    "    NPX = u.shape[2]\n",
    "    NPY = u.shape[1]\n",
    "    NPZ = u.shape[0]\n",
    "    u_horizontal  = np.zeros((NPZ,3))\n",
    "    u_hm = np.zeros((NPZ, NPY, NPX))\n",
    "    v_hm = np.zeros((NPZ, NPY, NPX))\n",
    "    w_hm = np.zeros((NPZ, NPY, NPX))\n",
    "    u_prime_all = np.zeros((NPZ, NPY, NPX))\n",
    "    v_prime_all = np.zeros((NPZ, NPY, NPX))\n",
    "    w_prime_all = np.zeros((NPZ, NPY, NPX))\n",
    "\n",
    "\n",
    "    w[0, :, :] = w2[0, :, :]\n",
    "    for k in range(1,NPZ):\n",
    "        w[k, :, :] = 0.5*(w2[k-1, :, :] + w2[k, :, :])\n",
    "        u_horizontal[k, 0] = np.average(u[k,:,:])\n",
    "        u_horizontal[k, 1] = np.average(v[k,:,:])\n",
    "        u_horizontal[k, 2] = np.average(w[k,:,:])\n",
    "    #redimensionalize array\n",
    "    for i in range (NPX):\n",
    "        for j in range (NPY):\n",
    "            u_hm[:,j,i] = u_hm[:,j,i] + u_horizontal[:,0]\n",
    "            v_hm[:,j,i] = v_hm[:,j,i] + u_horizontal[:,1]\n",
    "            w_hm[:,j,i] = w_hm[:,j,i] + u_horizontal[:,2]\n",
    "    #horizontal average mean velocity profile\n",
    "\n",
    "    #get instantaneous velocity profile\n",
    "    for it in range(nti):\n",
    "        ti = tis + tii * it\n",
    "        fname = 'DAT_{:010d}.h5'.format(ti)\n",
    "    #    print(\"Reading file \"+ fname)\n",
    "        f1 = h5py.File(fname, \"r\")\n",
    "\n",
    "        #print(\"Keys: %s\" % f.keys())\n",
    "        ## Old version Keys: [u'dz', u'dzw', u'eta', u'eta0', u'hh', u'pp', u'u', u'v', u'w', u'z', u'zw', u'zz']\n",
    "        ## New version Keys: [u'eta', u'hh', u'pp', u'u', u'v', u'w', u'z']\n",
    "        u_i = f1[\"u\"]\n",
    "        v_i = f1[\"v\"]\n",
    "        w2_i = f1[\"w\"]\n",
    "        w_i = np.array(w2_i).copy()\n",
    "\n",
    "        w_i[0, :, :] = w2_i[0, :, :]\n",
    "        for k in range(1,NPZ):\n",
    "            w_i[k, :, :] = 0.5*(w2_i[k-1, :, :] + w2_i[k, :, :])\n",
    "        u_prime = u_i - u_hm\n",
    "        v_prime = v_i - v_hm\n",
    "        w_prime = w_i - w_hm \n",
    "\n",
    "        u_prime_all = u_prime_all + u_prime\n",
    "        v_prime_all = v_prime_all + v_prime\n",
    "        w_prime_all = w_prime_all + w_prime\n",
    "    \n",
    "#time average\n",
    "    u_prime_all = u_prime_all / nti\n",
    "    v_prime_all = v_prime_all / nti\n",
    "    w_prime_all = w_prime_all / nti\n",
    "\n",
    "    #get dispersive shear stress\n",
    "    dispersive_shear_stress = -(u_prime_all * w_prime_all)\n",
    "    #dispersive_shear_stress_horizontal_average\n",
    "    dispersive_shear_stress_horizontal_average = np.zeros((NPZ))\n",
    "    for i in range(NPZ):\n",
    "        dispersive_shear_stress_horizontal_average[i] = np.average(dispersive_shear_stress[i,:,:])\n",
    "    return dispersive_shear_stress_horizontal_average"
   ]
  },
  {
   "cell_type": "code",
   "execution_count": 109,
   "metadata": {},
   "outputs": [],
   "source": [
    "def get_reynolds_shear_stress(path):\n",
    "    os.chdir(path)\n",
    "    print(\"Current directory: \" + os.getcwd())\n",
    "    fname = 'mean_tke_3d.h5'\n",
    "    f2 = h5py.File(fname, \"r\")\n",
    "    tke = f2[\"TKE\"]\n",
    "    Reynolds = f2[\"u'w'\"]\n",
    "    Reynolds_horizal_average = np.zeros((NPZ))\n",
    "    for i in range(NPZ):\n",
    "        Reynolds_horizal_average[i] = np.average(Reynolds[i,:,:])\n",
    "    return Reynolds_horizal_average"
   ]
  },
  {
   "cell_type": "code",
   "execution_count": 110,
   "metadata": {},
   "outputs": [],
   "source": [
    "def get_zz(path):\n",
    "    os.chdir(path)\n",
    "    print(\"Current directory: \" + os.getcwd())\n",
    "    fname = 'DAT_{:010d}.h5'.format(tis)\n",
    "    f1 = h5py.File(fname, \"r\")\n",
    "    zz = np.array(f1[\"z\"][:,0,0]).copy()\n",
    "    return zz"
   ]
  },
  {
   "cell_type": "markdown",
   "metadata": {},
   "source": [
    "The following function will calculate the derivative of velocity along z direction. The velocity field has one dimension in this case."
   ]
  },
  {
   "cell_type": "code",
   "execution_count": 111,
   "metadata": {},
   "outputs": [],
   "source": [
    "def get_derivative(u, z):\n",
    "    dudz = np.zeros((NPZ-1))\n",
    "    for k in range(NPZ):\n",
    "        dudz[k] = (u[k+1] - u[k]) / (z[k+1] - z[k])\n",
    "    return dudz"
   ]
  },
  {
   "cell_type": "code",
   "execution_count": 112,
   "metadata": {},
   "outputs": [],
   "source": [
    "#parameters\n",
    "#kappa = 0.4\n",
    "#nu = 1.511e-5\n",
    "#PEX = 1.45444104333\n",
    "#PEY = 8.72664625997\n",
    "#hbar = 0.46\n",
    "#uinfty = 2.54390548295\n",
    "dt = 0.68543297937\n",
    "#Rotational angular period\n",
    "T_turb = 42.84\n",
    "U_star = 0.356\n",
    "H_hub = 70\n",
    "#Mean finite velocity\n",
    "U = 11.5258407161\n",
    "tis = 200\n",
    "tie = 15000\n",
    "tii = 200\n",
    "nti = int((tie - tis) / tii + 1)"
   ]
  },
  {
   "cell_type": "code",
   "execution_count": 113,
   "metadata": {},
   "outputs": [
    {
     "name": "stdout",
     "output_type": "stream",
     "text": [
      "current working directory is: d:\\post\\Project\\Fixed_Turbine\n"
     ]
    }
   ],
   "source": [
    "#change working directory\n",
    "path = path = 'd:\\post\\Project\\Fixed_Turbine'\n",
    "os.chdir(path)\n",
    "print(\"current working directory is: {0}\".format(os.getcwd()))"
   ]
  },
  {
   "cell_type": "code",
   "execution_count": 114,
   "metadata": {},
   "outputs": [],
   "source": [
    "fname = 'mean_field_3d.h5'\n",
    "f0 = h5py.File(fname, \"r\")\n",
    "u = f0[\"u\"]\n",
    "NPX = u.shape[2]\n",
    "NPY = u.shape[1]\n",
    "NPZ = u.shape[0]"
   ]
  },
  {
   "cell_type": "markdown",
   "metadata": {},
   "source": [
    "The following script will calculate mean velocity"
   ]
  },
  {
   "cell_type": "code",
   "execution_count": 115,
   "metadata": {},
   "outputs": [],
   "source": [
    "for it in range(nti):\n",
    "    ti = tis + tii * it\n",
    "    time = ti * dt\n",
    "    fname = 'DAT_{:010d}.h5'.format(ti)\n",
    "#    print(\"Reading file \"+ fname)\n",
    "    f = h5py.File(fname, \"r\")\n",
    "\n",
    "    #print(\"Keys: %s\" % f.keys())\n",
    "    ## Old version Keys: [u'dz', u'dzw', u'eta', u'eta0', u'hh', u'pp', u'u', u'v', u'w', u'z', u'zw', u'zz']\n",
    "    ## New version Keys: [u'eta', u'hh', u'pp', u'u', u'v', u'w', u'z']\n",
    "    \n",
    "    zz = np.array(f[\"z\"][:,0,0]).copy()\n",
    "    u = f[\"u\"]\n",
    "    v = f[\"v\"]\n",
    "    w2 = f[\"w\"]\n",
    "    w = np.array(w2).copy()\n",
    "\n",
    "#   print(u.shape)\n",
    "\n",
    "    NPX = u.shape[2]\n",
    "    NPY = u.shape[1]\n",
    "    NPZ = u.shape[0]\n",
    "    \n",
    "    if it==0:\n",
    "      u_m_all = np.zeros((NPZ,3))\n",
    "\n",
    "    w[0, :, :] = w2[0, :, :]\n",
    "    for k in range(1,NPZ):\n",
    "      w[k, :, :] = 0.5*(w2[k-1, :, :] + w2[k, :, :])\n",
    "\n",
    "    u_m = np.zeros((NPZ,3))\n",
    "\n",
    "    for k in range(NPZ):\n",
    "      u_m[k, 0] = np.average(u[k,:,:])\n",
    "      u_m[k, 1] = np.average(v[k,:,:])\n",
    "      u_m[k, 2] = np.average(w[k,:,:])\n",
    "    u_m_all = u_m_all + u_m\n",
    "\n",
    "u_m_all = u_m_all / nti\n"
   ]
  },
  {
   "cell_type": "code",
   "execution_count": 121,
   "metadata": {},
   "outputs": [
    {
     "name": "stdout",
     "output_type": "stream",
     "text": [
      "Current directory: d:\\post\\Project\\Fixed_Turbine\n",
      "current working directory is: d:\\post\\Project\\Fixed_Turbine\n",
      "Current directory: d:\\post\\Project\\Fixed_Turbine\n"
     ]
    }
   ],
   "source": [
    "u_mean = np.zeros((NPZ))\n",
    "u_mean = u_m_all \n",
    "reynold = get_reynolds_shear_stress(path)\n",
    "carnopy = get_dispersive_shear_stress(path)\n",
    "flux_kinetic_energy = (reynold + carnopy)*u_mean[:,0]*(U/U_star)**3\n",
    "zz = get_zz(path) "
   ]
  },
  {
   "cell_type": "code",
   "execution_count": 122,
   "metadata": {},
   "outputs": [
    {
     "name": "stdout",
     "output_type": "stream",
     "text": [
      "8\n",
      "9\n",
      "10\n",
      "11\n",
      "12\n",
      "13\n",
      "14\n",
      "15\n",
      "16\n",
      "17\n",
      "18\n",
      "19\n",
      "20\n",
      "21\n",
      "22\n",
      "23\n",
      "24\n",
      "25\n",
      "26\n",
      "27\n",
      "28\n",
      "29\n",
      "30\n",
      "31\n",
      "32\n",
      "33\n",
      "34\n"
     ]
    }
   ],
   "source": [
    "for i in range(NPZ):\n",
    "    if (zz[i] >= H_hub - 40) and (zz[i] <= H_hub + 40):\n",
    "        print(i)"
   ]
  },
  {
   "cell_type": "code",
   "execution_count": 123,
   "metadata": {},
   "outputs": [
    {
     "data": {
      "image/png": "[encoded data removed]",
      "text/plain": [
       "<Figure size 432x288 with 1 Axes>"
      ]
     },
     "metadata": {
      "needs_background": "light"
     },
     "output_type": "display_data"
    }
   ],
   "source": [
    "plt.style.use('classic')\n",
    "%matplotlib inline\n",
    "fig, ax = plt.subplots()\n",
    "plt.plot(flux_kinetic_energy, zz/500, '-', color='black', linewidth=2)\n",
    "plt.xlabel('flux_kinetic_energy')\n",
    "plt.ylabel('zz/H_hub')\n",
    "plt.show()"
   ]
  },
  {
   "cell_type": "code",
   "execution_count": 119,
   "metadata": {},
   "outputs": [
    {
     "ename": "IndexError",
     "evalue": "index 64 is out of bounds for axis 0 with size 64",
     "output_type": "error",
     "traceback": [
      "\u001b[1;31m---------------------------------------------------------------------------\u001b[0m",
      "\u001b[1;31mIndexError\u001b[0m                                Traceback (most recent call last)",
      "\u001b[1;32md:\\post\\00_post_processing\\test_220221.ipynb Cell 17'\u001b[0m in \u001b[0;36m<module>\u001b[1;34m\u001b[0m\n\u001b[1;32m----> <a href='vscode-notebook-cell:/d%3A/post/00_post_processing/test_220221.ipynb#ch0000013?line=0'>1</a>\u001b[0m dudz \u001b[39m=\u001b[39m get_derivative(u_mean[:,\u001b[39m0\u001b[39;49m], zz)\n\u001b[0;32m      <a href='vscode-notebook-cell:/d%3A/post/00_post_processing/test_220221.ipynb#ch0000013?line=1'>2</a>\u001b[0m dissipation \u001b[39m=\u001b[39m (reynold \u001b[39m+\u001b[39m carnopy)\u001b[39m*\u001b[39mdudz\n",
      "\u001b[1;32md:\\post\\00_post_processing\\test_220221.ipynb Cell 8'\u001b[0m in \u001b[0;36mget_derivative\u001b[1;34m(u, z)\u001b[0m\n\u001b[0;32m      <a href='vscode-notebook-cell:/d%3A/post/00_post_processing/test_220221.ipynb#ch0000015?line=1'>2</a>\u001b[0m dudz \u001b[39m=\u001b[39m np\u001b[39m.\u001b[39mzeros((NPZ\u001b[39m-\u001b[39m\u001b[39m1\u001b[39m))\n\u001b[0;32m      <a href='vscode-notebook-cell:/d%3A/post/00_post_processing/test_220221.ipynb#ch0000015?line=2'>3</a>\u001b[0m \u001b[39mfor\u001b[39;00m k \u001b[39min\u001b[39;00m \u001b[39mrange\u001b[39m(NPZ):\n\u001b[1;32m----> <a href='vscode-notebook-cell:/d%3A/post/00_post_processing/test_220221.ipynb#ch0000015?line=3'>4</a>\u001b[0m     dudz[k] \u001b[39m=\u001b[39m (u[k\u001b[39m+\u001b[39;49m\u001b[39m1\u001b[39;49m] \u001b[39m-\u001b[39m u[k]) \u001b[39m/\u001b[39m (z[k\u001b[39m+\u001b[39m\u001b[39m1\u001b[39m] \u001b[39m-\u001b[39m z[k])\n\u001b[0;32m      <a href='vscode-notebook-cell:/d%3A/post/00_post_processing/test_220221.ipynb#ch0000015?line=4'>5</a>\u001b[0m \u001b[39mreturn\u001b[39;00m dudz\n",
      "\u001b[1;31mIndexError\u001b[0m: index 64 is out of bounds for axis 0 with size 64"
     ]
    }
   ],
   "source": [
    "dudz = get_derivative(u_mean[:,0], zz)\n",
    "dissipation = (reynold + carnopy)*dudz"
   ]
  },
  {
   "cell_type": "code",
   "execution_count": null,
   "metadata": {},
   "outputs": [],
   "source": [
    "plt.style.use('classic')\n",
    "%matplotlib inline\n",
    "fig, ax = plt.subplots()\n",
    "plt.plot(dissipation, zz, '-', color='black', linewidth=2)\n",
    "plt.xlabel('flux_kinetic_energy')\n",
    "plt.ylabel('zz/H_hub')\n",
    "plt.show()"
   ]
  }
 ],
 "metadata": {
  "interpreter": {
   "hash": "e31dec42d8456365a876b53d68a215d3bec5092680cc795fae3bcf047e11988c"
  },
  "kernelspec": {
   "display_name": "Python 3.10.0 64-bit",
   "language": "python",
   "name": "python3"
  },
  "language_info": {
   "codemirror_mode": {
    "name": "ipython",
    "version": 3
   },
   "file_extension": ".py",
   "mimetype": "text/x-python",
   "name": "python",
   "nbconvert_exporter": "python",
   "pygments_lexer": "ipython3",
   "version": "3.10.0"
  },
  "orig_nbformat": 4
 },
 "nbformat": 4,
 "nbformat_minor": 2
}
