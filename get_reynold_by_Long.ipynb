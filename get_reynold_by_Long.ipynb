{
 "cells": [
  {
   "cell_type": "markdown",
   "metadata": {},
   "source": [
    "Comment"
   ]
  },
  {
   "cell_type": "code",
   "execution_count": 1,
   "metadata": {},
   "outputs": [],
   "source": [
    "#get Reynolds stress by using timeaverage and then horizontal averaging\n",
    "#¯u: time average\n",
    "#<>u: horizontal average\n",
    "#u' = u - ¯u\n",
    "#u'' = u' - <u>\n",
    "#-<¯u'w'>: averaged Reynolds shear stress\n",
    "#-<¯u''w''>: dispersive shear stress"
   ]
  },
  {
   "cell_type": "markdown",
   "metadata": {},
   "source": [
    "Firsly, we go into working directory file.\n",
    "Secondly, we open the following file such as mean_field_3di.h5 or mean_tke_3d.h5 to get the data.\n",
    "Thirdly, we use it to get the value we want\n",
    "Lastly, we save it into the output file or visulize it."
   ]
  },
  {
   "cell_type": "markdown",
   "metadata": {},
   "source": [
    "The first term I think we got it in the budget part. So I think we dig this part deeper"
   ]
  },
  {
   "cell_type": "code",
   "execution_count": 2,
   "metadata": {},
   "outputs": [],
   "source": [
    "#import neccesary library\n",
    "import sys\n",
    "import h5py\n",
    "import numpy as np\n",
    "import tecplot_io as tec\n",
    "import os\n",
    "import matplotlib as mpl\n",
    "import matplotlib.pyplot as plt \n",
    "import matplotlib.ticker as tck"
   ]
  },
  {
   "cell_type": "code",
   "execution_count": 3,
   "metadata": {},
   "outputs": [
    {
     "name": "stdout",
     "output_type": "stream",
     "text": [
      "current working directory is: d:\\post\\Fixed_new\n"
     ]
    }
   ],
   "source": [
    "#change working directory\n",
    "path = 'd:\\post\\Fixed_new'\n",
    "path0 = 'd:\\post\\Fixed_new'\n",
    "path1 = 'd:\\post\\Pitch_test'\n",
    "path2 = 'd:\\post\\SWAY'\n",
    "os.chdir(path)\n",
    "print(\"current working directory is: {0}\".format(os.getcwd()))"
   ]
  },
  {
   "cell_type": "code",
   "execution_count": 4,
   "metadata": {},
   "outputs": [],
   "source": [
    "#parameters\n",
    "#kappa = 0.4\n",
    "#nu = 1.511e-5\n",
    "#PEX = 1.45444104333\n",
    "#PEY = 8.72664625997\n",
    "#hbar = 0.46\n",
    "#uinfty = 2.54390548295\n",
    "dt = 0.68543297937\n",
    "#Rotational angular period\n",
    "T_turb = 42.84\n",
    "U_star = 0.356\n",
    "H_hub = 70\n",
    "#Mean finite velocity\n",
    "U = 11.5258407161\n",
    "tis = 200\n",
    "tie = 15000\n",
    "tii = 200\n",
    "nti = int((tie - tis) / tii + 1)"
   ]
  },
  {
   "cell_type": "markdown",
   "metadata": {},
   "source": [
    "Calculate dispersive (or canopy) shear stress"
   ]
  },
  {
   "cell_type": "code",
   "execution_count": 5,
   "metadata": {},
   "outputs": [],
   "source": [
    "def get_dispersive_shear_stress(path):\n",
    "    os.chdir(path)\n",
    "    print(\"current working directory is: {0}\".format(os.getcwd()))\n",
    "    #open nessesary file\n",
    "    fname = 'mean_field_3d.h5'\n",
    "    f = h5py.File(fname, \"r\")\n",
    "    u = f[\"u\"]\n",
    "    v = f[\"v\"]\n",
    "    w2 = f[\"w\"]\n",
    "    w = np.array(w2).copy()\n",
    "    #get mean velocity profile\n",
    "    NPX = u.shape[2]\n",
    "    NPY = u.shape[1]\n",
    "    NPZ = u.shape[0]\n",
    "    u_horizontal  = np.zeros((NPZ,3))\n",
    "    u_hm = np.zeros((NPZ, NPY, NPX))\n",
    "    v_hm = np.zeros((NPZ, NPY, NPX))\n",
    "    w_hm = np.zeros((NPZ, NPY, NPX))\n",
    "    u_prime_all = np.zeros((NPZ, NPY, NPX))\n",
    "    v_prime_all = np.zeros((NPZ, NPY, NPX))\n",
    "    w_prime_all = np.zeros((NPZ, NPY, NPX))\n",
    "\n",
    "\n",
    "    w[0, :, :] = w2[0, :, :]\n",
    "    for k in range(1,NPZ):\n",
    "        w[k, :, :] = 0.5*(w2[k-1, :, :] + w2[k, :, :])\n",
    "        u_horizontal[k, 0] = np.average(u[k,:,:])\n",
    "        u_horizontal[k, 1] = np.average(v[k,:,:])\n",
    "        u_horizontal[k, 2] = np.average(w[k,:,:])\n",
    "    #redimensionalize array\n",
    "    for i in range (NPX):\n",
    "        for j in range (NPY):\n",
    "            u_hm[:,j,i] = u_hm[:,j,i] + u_horizontal[:,0]\n",
    "            v_hm[:,j,i] = v_hm[:,j,i] + u_horizontal[:,1]\n",
    "            w_hm[:,j,i] = w_hm[:,j,i] + u_horizontal[:,2]\n",
    "    #horizontal average mean velocity profile\n",
    "\n",
    "    #get instantaneous velocity profile\n",
    "    for it in range(nti):\n",
    "        ti = tis + tii * it\n",
    "        fname = 'DAT_{:010d}.h5'.format(ti)\n",
    "    #    print(\"Reading file \"+ fname)\n",
    "        f1 = h5py.File(fname, \"r\")\n",
    "\n",
    "        #print(\"Keys: %s\" % f.keys())\n",
    "        ## Old version Keys: [u'dz', u'dzw', u'eta', u'eta0', u'hh', u'pp', u'u', u'v', u'w', u'z', u'zw', u'zz']\n",
    "        ## New version Keys: [u'eta', u'hh', u'pp', u'u', u'v', u'w', u'z']\n",
    "        u_i = f1[\"u\"]\n",
    "        v_i = f1[\"v\"]\n",
    "        w2_i = f1[\"w\"]\n",
    "        w_i = np.array(w2_i).copy()\n",
    "\n",
    "        w_i[0, :, :] = w2_i[0, :, :]\n",
    "        for k in range(1,NPZ):\n",
    "            w_i[k, :, :] = 0.5*(w2_i[k-1, :, :] + w2_i[k, :, :])\n",
    "        u_prime = u_i - u_hm\n",
    "        v_prime = v_i - v_hm\n",
    "        w_prime = w_i - w_hm \n",
    "\n",
    "        u_prime_all = u_prime_all + u_prime\n",
    "        v_prime_all = v_prime_all + v_prime\n",
    "        w_prime_all = w_prime_all + w_prime\n",
    "    \n",
    "#time average\n",
    "    u_prime_all = u_prime_all / nti\n",
    "    v_prime_all = v_prime_all / nti\n",
    "    w_prime_all = w_prime_all / nti\n",
    "\n",
    "    #get dispersive shear stress\n",
    "    dispersive_shear_stress = -(u_prime_all * w_prime_all)\n",
    "    #dispersive_shear_stress_horizontal_average\n",
    "    dispersive_shear_stress_horizontal_average = np.zeros((NPZ))\n",
    "    for i in range(NPZ):\n",
    "        dispersive_shear_stress_horizontal_average[i] = np.average(dispersive_shear_stress[i,:,:])\n",
    "    return dispersive_shear_stress_horizontal_average\n",
    "    "
   ]
  },
  {
   "cell_type": "markdown",
   "metadata": {},
   "source": [
    "Reynolds shear stress relies on the mean_tke_3d.h5. We just open it and horizontal average it"
   ]
  },
  {
   "cell_type": "code",
   "execution_count": 6,
   "metadata": {},
   "outputs": [],
   "source": [
    "def get_reynolds_shear_stress(path):\n",
    "    os.chdir(path)\n",
    "    print(\"Current directory: \" + os.getcwd())\n",
    "    fname = 'mean_tke_3d.h5'\n",
    "    f2 = h5py.File(fname, \"r\")\n",
    "    tke = f2[\"TKE\"]\n",
    "    Reynolds = f2[\"u'w'\"]\n",
    "    Reynolds_horizal_average = np.zeros((NPZ))\n",
    "    for i in range(NPZ):\n",
    "        Reynolds_horizal_average[i] = np.average(Reynolds[i,:,:])\n",
    "    return Reynolds_horizal_average"
   ]
  },
  {
   "cell_type": "markdown",
   "metadata": {},
   "source": [
    "get zz"
   ]
  },
  {
   "cell_type": "code",
   "execution_count": 7,
   "metadata": {},
   "outputs": [],
   "source": [
    "def get_zz(path):\n",
    "    os.chdir(path)\n",
    "    print(\"Current directory: \" + os.getcwd())\n",
    "    fname = 'DAT_{:010d}.h5'.format(tis)\n",
    "    f1 = h5py.File(fname, \"r\")\n",
    "    zz = np.array(f1[\"z\"][:,0,0]).copy()\n",
    "    return zz\n",
    "    "
   ]
  },
  {
   "cell_type": "code",
   "execution_count": 8,
   "metadata": {},
   "outputs": [],
   "source": [
    "fname = 'mean_field_3d.h5'\n",
    "f0 = h5py.File(fname, \"r\")\n",
    "u = f0[\"u\"]\n",
    "NPX = u.shape[2]\n",
    "NPY = u.shape[1]\n",
    "NPZ = u.shape[0]"
   ]
  },
  {
   "cell_type": "code",
   "execution_count": 10,
   "metadata": {},
   "outputs": [
    {
     "name": "stdout",
     "output_type": "stream",
     "text": [
      "Current directory: d:\\post\\Fixed_new\n",
      "current working directory is: d:\\post\\Fixed_new\n",
      "current working directory is: d:\\post\\Pitch_test\n",
      "current working directory is: d:\\post\\SWAY\n"
     ]
    }
   ],
   "source": [
    "data = np.zeros((NPZ,7))\n",
    "data[:,0] = get_zz(path0)/H_hub\n",
    "data[:,1] = get_dispersive_shear_stress(path0)/(U_star**2)\n",
    "#data[:,2] = get_reynolds_shear_stress(path0)/(U_star**2)\n",
    "data[:,3] = get_dispersive_shear_stress(path1)/(U_star**2)\n",
    "#data[:,4] = -get_reynolds_shear_stress(path1)/(U_star**2)\n",
    "data[:,5] = get_dispersive_shear_stress(path2)/(U_star**2)\n",
    "#data[:,6] = get_reynolds_shear_stress(path2)/(U_star**2)"
   ]
  },
  {
   "cell_type": "code",
   "execution_count": 12,
   "metadata": {},
   "outputs": [
    {
     "data": {
      "image/png": "[encoded data removed]",
      "text/plain": [
       "<Figure size 432x288 with 1 Axes>"
      ]
     },
     "metadata": {
      "needs_background": "light"
     },
     "output_type": "display_data"
    }
   ],
   "source": [
    "plt.style.use('classic')\n",
    "%matplotlib inline\n",
    "fig, ax = plt.subplots()\n",
    "plt.plot(data[:,1], data[:,0], data[:,3], data[:,0], data[:,5], data[:,0])\n",
    "plt.gca().get_lines()[1].set_color('black')\n",
    "plt.gca().get_lines()[0].set_linestyle('-.')\n",
    "plt.gca().get_lines()[2].set_linestyle('--')\n",
    "ax.xaxis.set_minor_locator(tck.AutoMinorLocator())\n",
    "ax.yaxis.set_minor_locator(tck.AutoMinorLocator())\n",
    "plt.show()"
   ]
  },
  {
   "cell_type": "code",
   "execution_count": null,
   "metadata": {},
   "outputs": [
    {
     "data": {
      "image/png": "[encoded data removed]",
      "text/plain": [
       "<Figure size 432x288 with 1 Axes>"
      ]
     },
     "metadata": {
      "needs_background": "light"
     },
     "output_type": "display_data"
    }
   ],
   "source": [
    "plt.style.use('classic')\n",
    "%matplotlib inline\n",
    "fig, ax = plt.subplots()\n",
    "plt.plot(data[:,1], data[:,0], data[:,2], data[:,0], data[:,3], \\\n",
    "         data[:,0], data[:,4], data[:,0], data[:,5], data[:,0], \\\n",
    "         data[:,6], data[:,0])\n",
    "plt.gca().get_lines()[1].set_color('black')\n",
    "plt.gca().get_lines()[0].set_linestyle('-.')\n",
    "plt.gca().get_lines()[2].set_linestyle('--')\n",
    "plt.xlabel('Reynolds/U_star^2')\n",
    "plt.ylabel('z/H')\n",
    "plt.legend(['dispersive Fixed Turbine', 'Reynolds Fixed Turbine',\\\n",
    "            'dispersive Pitch Turbine', 'Reynolds Pitch Turbine',\\\n",
    "            'dispersive SWAY Turbine', 'Reynolds SWAY Turbine'], \\\n",
    "            loc = 'upper right') \n",
    "ax.xaxis.set_minor_locator(tck.AutoMinorLocator())\n",
    "ax.yaxis.set_minor_locator(tck.AutoMinorLocator())\n",
    "plt.show()"
   ]
  },
  {
   "cell_type": "markdown",
   "metadata": {},
   "source": [
    "Store data for tecplot format"
   ]
  },
  {
   "cell_type": "code",
   "execution_count": null,
   "metadata": {},
   "outputs": [],
   "source": [
    "os.chdir('d:\\post')\n",
    "outputfolder = 'post_result/'\n",
    "#create output folder named 'post_result' \n",
    "if not os.path.exists(outputfolder):\n",
    "    os.makedirs(outputfolder)\n",
    "f1 = open( outputfolder + \"profile of shear stress.plt\",'w')\n",
    "f1.write(\"VARIABLES = z/H, dispersive Fixed Turbine, Reynolds Fixed Turbine,\\\n",
    "         dispersive Pitch Turbine, Reynolds Pitch Turbine,\\\n",
    "         dispersive SWAY Turbine, Reynolds SWAY Turbine  \\n\")\n",
    "np.savetxt(f1, data)\n",
    "f1.close()"
   ]
  },
  {
   "cell_type": "code",
   "execution_count": null,
   "metadata": {},
   "outputs": [
    {
     "name": "stdout",
     "output_type": "stream",
     "text": [
      "Done!\n"
     ]
    }
   ],
   "source": [
    "print('Done!')"
   ]
  }
 ],
 "metadata": {
  "interpreter": {
   "hash": "e31dec42d8456365a876b53d68a215d3bec5092680cc795fae3bcf047e11988c"
  },
  "kernelspec": {
   "display_name": "Python 3.10.0 64-bit",
   "language": "python",
   "name": "python3"
  },
  "language_info": {
   "codemirror_mode": {
    "name": "ipython",
    "version": 3
   },
   "file_extension": ".py",
   "mimetype": "text/x-python",
   "name": "python",
   "nbconvert_exporter": "python",
   "pygments_lexer": "ipython3",
   "version": "3.10.0"
  },
  "orig_nbformat": 4
 },
 "nbformat": 4,
 "nbformat_minor": 2
}
