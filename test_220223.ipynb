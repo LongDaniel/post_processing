{
 "cells": [
  {
   "cell_type": "code",
   "execution_count": 15,
   "metadata": {},
   "outputs": [],
   "source": [
    "#import necessary libraries\n",
    "import numpy as np\n",
    "import matplotlib as mpl\n",
    "import matplotlib.pyplot as plt\n",
    "import os\n",
    "import pandas as pd\n",
    "import tecplot_io as tec\n",
    "import h5py\n",
    "import matplotlib.ticker as tck"
   ]
  },
  {
   "cell_type": "code",
   "execution_count": 16,
   "metadata": {},
   "outputs": [],
   "source": [
    "#parameters\n",
    "#Declare some variable \n",
    "nturbinex = 4\n",
    "nturbiney = 4\n",
    "nturbine = 16\n",
    "#Diameter of turbine\n",
    "D = 80\n",
    "#Other variable\n",
    "Sx = 7\n",
    "Sy = 7\n",
    "#kappa = 0.4\n",
    "#nu = 1.511e-5\n",
    "#PEX = 1.45444104333\n",
    "#PEY = 8.72664625997\n",
    "#hbar = 0.46\n",
    "#uinfty = 2.54390548295\n",
    "dt = 0.68543297937\n",
    "#Rotational angular period\n",
    "T_turb = 42.84\n",
    "U_star = 0.356\n",
    "H_hub = 70\n",
    "#Mean finite velocity\n",
    "U = 11.5258407161\n",
    "tis = 200\n",
    "tie = 15000\n",
    "tii = 200\n",
    "nti = int((tie - tis) / tii + 1)"
   ]
  },
  {
   "cell_type": "code",
   "execution_count": 17,
   "metadata": {},
   "outputs": [
    {
     "name": "stdout",
     "output_type": "stream",
     "text": [
      "current working directory is: d:\\post\\Project\\SWAY_2302\n"
     ]
    }
   ],
   "source": [
    "#change working directory\n",
    "path = path = 'd:\\post\\Project\\SWAY_2302'\n",
    "os.chdir(path)\n",
    "print(\"current working directory is: {0}\".format(os.getcwd()))"
   ]
  },
  {
   "cell_type": "code",
   "execution_count": 18,
   "metadata": {},
   "outputs": [],
   "source": [
    "f= open(\"mean_field_1d.dat\",\"r\")\n",
    "f.readline()\n",
    "f.readline()\n",
    "content=f.readlines()\n",
    "#print(content)\n",
    "f.close()"
   ]
  },
  {
   "cell_type": "code",
   "execution_count": 19,
   "metadata": {},
   "outputs": [],
   "source": [
    "filename = \"mean_field_1d.dat\"\n",
    "data = tec.tecplot_reader(filename, [64, 24], 2)"
   ]
  },
  {
   "cell_type": "code",
   "execution_count": 20,
   "metadata": {},
   "outputs": [
    {
     "name": "stdout",
     "output_type": "stream",
     "text": [
      "[0.0018532  0.53686238 0.55218819 0.56795982 0.5822568  0.59515048\n",
      " 0.60662127 0.612049   0.61705802 0.62165937 0.6258887  0.62980175\n",
      " 0.63345869 0.63691526 0.64022239 0.64342796 0.64657635 0.6497071\n",
      " 0.65285325 0.65604023 0.65928559 0.66259892 0.6660071  0.66953648\n",
      " 0.67318472 0.67694052 0.6808211  0.68484451 0.68901605 0.69332623\n",
      " 0.69775399 0.70226993 0.70683742 0.71140991 0.71593046 0.7203548\n",
      " 0.72461943 0.73786854 0.75038489 0.76252189 0.77421127 0.7855425\n",
      " 0.79651849 0.8071703  0.81741257 0.82727329 0.83679108 0.84605424\n",
      " 0.85519753 0.86426117 0.87338594 0.88242495 0.89119462 0.89979145\n",
      " 0.90805487 0.91584007 0.92334411 0.93055702 0.93735817 0.94336179\n",
      " 0.94844729 0.95220057 0.95609073 0.95609073]\n"
     ]
    }
   ],
   "source": [
    "print(data[:,1])\n",
    "z = data[:,0]\n",
    "um = data[:,1]\n",
    "sum = data[:,4]\n",
    "reynolds = data[:,5]\n",
    "carnopy = data[:,6]\n",
    "upwp = data[:,9]\n",
    "uppwpp = data[:,10]\n",
    "mkeb_wt = data[:,20]"
   ]
  },
  {
   "cell_type": "code",
   "execution_count": 21,
   "metadata": {},
   "outputs": [
    {
     "data": {
      "image/png": "[encoded data removed]",
      "text/plain": [
       "<Figure size 432x288 with 1 Axes>"
      ]
     },
     "metadata": {
      "needs_background": "light"
     },
     "output_type": "display_data"
    }
   ],
   "source": [
    "plt.plot(mkeb_wt, z)\n",
    "plt.show()"
   ]
  },
  {
   "cell_type": "code",
   "execution_count": 22,
   "metadata": {},
   "outputs": [],
   "source": [
    "#flux_kinetic_energy = um*(reynolds + carnopy)\n",
    "flux_kinetic_energy = um*sum\n",
    "data1 = np.zeros((64,3))\n",
    "data1[:,0] = z/500\n",
    "data1[:,1] = flux_kinetic_energy\n",
    "data1[:,2] = mkeb_wt"
   ]
  },
  {
   "cell_type": "code",
   "execution_count": 23,
   "metadata": {},
   "outputs": [
    {
     "data": {
      "image/png": "[encoded data removed]",
      "text/plain": [
       "<Figure size 432x288 with 1 Axes>"
      ]
     },
     "metadata": {
      "needs_background": "light"
     },
     "output_type": "display_data"
    }
   ],
   "source": [
    "%matplotlib inline\n",
    "#plt.style.use('classic')\n",
    "fig, ax = plt.subplots()\n",
    "plt.plot( flux_kinetic_energy,z/500)\n",
    "plt.xlabel('flux_kinetic_energy')\n",
    "plt.ylabel('z')\n",
    "ax.xaxis.set_minor_locator(tck.AutoMinorLocator())\n",
    "ax.yaxis.set_minor_locator(tck.AutoMinorLocator())\n",
    "plt.show()"
   ]
  },
  {
   "cell_type": "code",
   "execution_count": 24,
   "metadata": {},
   "outputs": [],
   "source": [
    "os.chdir('d:\\post')\n",
    "outputfolder = 'post_result/'\n",
    "#create output folder named 'post_result' \n",
    "if not os.path.exists(outputfolder):\n",
    "    os.makedirs(outputfolder)\n",
    "f1 = open( outputfolder + \"budget calc.plt\",'w')\n",
    "f1.write(\"VARIABLES = z/H, phi_e, mkeb_wt  \\n\")\n",
    "np.savetxt(f1, data1)\n",
    "f1.close()"
   ]
  },
  {
   "cell_type": "code",
   "execution_count": 25,
   "metadata": {},
   "outputs": [],
   "source": [
    "def power_density_average(path):\n",
    "  #Declare working directory\n",
    "  os.chdir(path)\n",
    "  print(os.getcwd())\n",
    "      #Clean data\n",
    "  fid = open('log.uref','r')\n",
    "  content=fid.readlines()\n",
    "  # Turbine_           1 :angvel=   50.735637598099999      , TSR=   4.4059452767309510      , Uref=  0.86364504796591524\n",
    "  196034763     \n",
    "\n",
    "  nline = len(content)\n",
    "  nt = nline / nturbine\n",
    "  data=np.zeros((nline,4))\n",
    "\n",
    "  for i in range(int(nt)):\n",
    "    for j in range(nturbine):\n",
    "      i2 = nturbine * i + j\n",
    "      value=content[i2].split()\n",
    "      #print(value)\n",
    "      data[i2,0]=(i+1)*dt\n",
    "      data[i2,1]=value[3] # angvel\n",
    "      data[i2,2]=value[6] # TSR\n",
    "      data[i2,3]=value[9] # Uref\n",
    "  fid.close()\n",
    "\n",
    "  np.savetxt('uref.dat', data)\n",
    "  fid = open('log.cthrust','r')\n",
    "  content=fid.readlines()\n",
    "  # Thrust=  0.10233803188671066      , Torque=   6.1668522808625047E-003 , C_Thrust=  0.38109671967396186      , Power=   6.3533464098887757E-002 , C_Power=  0.12840488196034763     \n",
    "\n",
    "  nline = len(content)\n",
    "  nt = nline / nturbine\n",
    "  data=np.zeros((int(nturbine*nt),6))\n",
    "\n",
    "  for i in range(int(nt)):\n",
    "    for j in range(nturbine):\n",
    "      i2 = nturbine * i + j\n",
    "      value=content[i2].split()\n",
    "      #print(value)\n",
    "      data[i2,0]=(i+1)*dt # time\n",
    "      data[i2,1]=value[1] # thrust\n",
    "      data[i2,2]=value[4] # torque\n",
    "      data[i2,3]=value[7] # c_thrust\n",
    "      data[i2,4]=value[10] # power\n",
    "      data[i2,5]=float(value[13])*1.0 # c_power\n",
    "  fid.close()\n",
    "\n",
    "  np.savetxt('coeff.dat', data)\n",
    "  #Data Frame\n",
    "  data = pd.read_csv('coeff.dat', sep = '\\s+', header = None)\n",
    "  data = pd.DataFrame(data)\n",
    "  x = data[4] #Turbine power\n",
    "  #rearrange series to array multidimensional\n",
    "  x = np.array(x)\n",
    "  x = x.reshape([int(nt), nturbine])\n",
    "\n",
    "  #calculate power density\n",
    "  power_density = x/(Sx*Sy*D)\n",
    "  power_density_average = np.mean(power_density, axis = 1)\n",
    "  return power_density_average"
   ]
  },
  {
   "cell_type": "code",
   "execution_count": 26,
   "metadata": {},
   "outputs": [],
   "source": [
    "#function get time variable\n",
    "#require working directory and return time variable\n",
    "#input: path\n",
    "#output: time variable\n",
    "def get_time(path):\n",
    "    os.chdir(path)\n",
    "    data = pd.read_csv('coeff.dat', sep = '\\s+', header = None)\n",
    "    data = pd.DataFrame(data)\n",
    "    x = data[0]\n",
    "    time = []\n",
    "    #Normalized time variable\n",
    "    for i in range(0, int(len(x)), nturbine):\n",
    "      #time.append(x[i]*(U/H_hub))\n",
    "      time.append(x[i]/T_turb)           #Using T_turb\n",
    "    return time"
   ]
  },
  {
   "cell_type": "code",
   "execution_count": 27,
   "metadata": {},
   "outputs": [
    {
     "name": "stdout",
     "output_type": "stream",
     "text": [
      "d:\\post\\Project\\SWAY_2302\n"
     ]
    }
   ],
   "source": [
    "power_density = power_density_average(path)\n",
    "time = get_time(path)\n",
    "data = np.zeros((len(time),2))\n",
    "data[:,0] = time\n",
    "data[:,1] = power_density"
   ]
  },
  {
   "cell_type": "code",
   "execution_count": 28,
   "metadata": {},
   "outputs": [
    {
     "data": {
      "image/png": "[encoded data removed]",
      "text/plain": [
       "<Figure size 432x288 with 1 Axes>"
      ]
     },
     "metadata": {
      "needs_background": "light"
     },
     "output_type": "display_data"
    }
   ],
   "source": [
    "%matplotlib inline\n",
    "#plt.style.use('classic')\n",
    "fig, ax = plt.subplots()\n",
    "plt.plot( data[:,0], data[:,1])\n",
    "plt.xlabel('time')\n",
    "plt.ylabel('Pij/U*^3')\n",
    "ax.xaxis.set_minor_locator(tck.AutoMinorLocator())\n",
    "ax.yaxis.set_minor_locator(tck.AutoMinorLocator())\n",
    "plt.show()"
   ]
  }
 ],
 "metadata": {
  "interpreter": {
   "hash": "e31dec42d8456365a876b53d68a215d3bec5092680cc795fae3bcf047e11988c"
  },
  "kernelspec": {
   "display_name": "Python 3.10.0 64-bit",
   "language": "python",
   "name": "python3"
  },
  "language_info": {
   "codemirror_mode": {
    "name": "ipython",
    "version": 3
   },
   "file_extension": ".py",
   "mimetype": "text/x-python",
   "name": "python",
   "nbconvert_exporter": "python",
   "pygments_lexer": "ipython3",
   "version": "3.10.0"
  },
  "orig_nbformat": 4
 },
 "nbformat": 4,
 "nbformat_minor": 2
}
