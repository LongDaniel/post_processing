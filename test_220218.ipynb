{
 "cells": [
  {
   "cell_type": "markdown",
   "metadata": {},
   "source": [
    "get velocity time averaged before horizontal average"
   ]
  },
  {
   "cell_type": "code",
   "execution_count": 9,
   "metadata": {},
   "outputs": [],
   "source": [
    "#import neccesary library\n",
    "import sys\n",
    "import h5py\n",
    "import numpy as np\n",
    "import tecplot_io as tec\n",
    "import os\n",
    "import matplotlib as mpl\n",
    "import matplotlib.pyplot as plt \n",
    "import matplotlib.ticker as tck"
   ]
  },
  {
   "cell_type": "code",
   "execution_count": 10,
   "metadata": {},
   "outputs": [
    {
     "name": "stdout",
     "output_type": "stream",
     "text": [
      "current working directory is: d:\\post\\Project\\Fixed_Turbine\n"
     ]
    }
   ],
   "source": [
    "path = 'd:\\post\\Project\\Fixed_Turbine'\n",
    "os.chdir(path)\n",
    "print(\"current working directory is: {0}\".format(os.getcwd()))"
   ]
  },
  {
   "cell_type": "code",
   "execution_count": 11,
   "metadata": {},
   "outputs": [],
   "source": [
    "#parameters\n",
    "#kappa = 0.4\n",
    "#nu = 1.511e-5\n",
    "#PEX = 1.45444104333\n",
    "#PEY = 8.72664625997\n",
    "#hbar = 0.46\n",
    "#uinfty = 2.54390548295\n",
    "dt = 0.68543297937\n",
    "#Rotational angular period\n",
    "T_turb = 42.84\n",
    "U_star = 0.356\n",
    "H_hub = 70\n",
    "#Mean finite velocity\n",
    "U = 11.5258407161\n",
    "tis = 200\n",
    "tie = 15000\n",
    "tii = 200\n",
    "nti = int((tie - tis) / tii + 1)"
   ]
  },
  {
   "cell_type": "code",
   "execution_count": 12,
   "metadata": {},
   "outputs": [],
   "source": [
    "for it in range(nti):\n",
    "    ti = tis + tii * it\n",
    "    time = ti * dt\n",
    "    fname = 'DAT_{:010d}.h5'.format(ti)\n",
    "#    print(\"Reading file \"+ fname)\n",
    "    f = h5py.File(fname, \"r\")\n",
    "\n",
    "    #print(\"Keys: %s\" % f.keys())\n",
    "    ## Old version Keys: [u'dz', u'dzw', u'eta', u'eta0', u'hh', u'pp', u'u', u'v', u'w', u'z', u'zw', u'zz']\n",
    "    ## New version Keys: [u'eta', u'hh', u'pp', u'u', u'v', u'w', u'z']\n",
    "    \n",
    "    zz = np.array(f[\"z\"][:,0,0]).copy()\n",
    "    u = f[\"u\"]\n",
    "    v = f[\"v\"]\n",
    "    w2 = f[\"w\"]\n",
    "    w = np.array(w2).copy()\n",
    "\n",
    "#   print(u.shape)\n",
    "\n",
    "    NPX = u.shape[2]\n",
    "    NPY = u.shape[1]\n",
    "    NPZ = u.shape[0]\n",
    "    \n",
    "    if it==0:\n",
    "      u_all = np.zeros((NPZ,NPY,NPX))\n",
    "      v_all = np.zeros((NPZ,NPY,NPX))\n",
    "      w_all = np.zeros((NPZ,NPY,NPX))\n",
    "\n",
    "    w[0, :, :] = w2[0, :, :]\n",
    "    for k in range(1,NPZ):\n",
    "      w[k, :, :] = 0.5*(w2[k-1, :, :] + w2[k, :, :])\n",
    "      \n",
    "    u_all = u_all + u\n",
    "    v_all = v_all + v\n",
    "    w_all = w_all + w"
   ]
  },
  {
   "cell_type": "code",
   "execution_count": 13,
   "metadata": {},
   "outputs": [],
   "source": [
    "#time average\n",
    "u_all = u_all / nti\n",
    "v_all = v_all / nti\n",
    "w_all = w_all / nti"
   ]
  },
  {
   "cell_type": "code",
   "execution_count": 14,
   "metadata": {},
   "outputs": [],
   "source": [
    "#horizontal average\n",
    "u_hozirontal = np.zeros((NPZ))\n",
    "for i in range (NPZ):\n",
    "    u_hozirontal[i] = np.average(u_all[i,:,:])\n"
   ]
  },
  {
   "cell_type": "code",
   "execution_count": 15,
   "metadata": {},
   "outputs": [
    {
     "data": {
      "image/png": "[encoded data removed]",
      "text/plain": [
       "<Figure size 432x288 with 1 Axes>"
      ]
     },
     "metadata": {
      "needs_background": "light"
     },
     "output_type": "display_data"
    }
   ],
   "source": [
    "plt.style.use('classic')\n",
    "%matplotlib inline\n",
    "fig, ax = plt.subplots()\n",
    "plt.plot(u_hozirontal*U/U_star, zz/H_hub, '-', color='black', linewidth=2)\n",
    "plt.xlabel('u/U*')\n",
    "plt.ylabel('z/H')\n",
    "#plt.yscale('log')\n",
    "ax.xaxis.set_minor_locator(tck.AutoMinorLocator())\n",
    "ax.yaxis.set_minor_locator(tck.AutoMinorLocator())\n",
    "plt.show()"
   ]
  }
 ],
 "metadata": {
  "interpreter": {
   "hash": "e31dec42d8456365a876b53d68a215d3bec5092680cc795fae3bcf047e11988c"
  },
  "kernelspec": {
   "display_name": "Python 3.10.0 64-bit",
   "language": "python",
   "name": "python3"
  },
  "language_info": {
   "codemirror_mode": {
    "name": "ipython",
    "version": 3
   },
   "file_extension": ".py",
   "mimetype": "text/x-python",
   "name": "python",
   "nbconvert_exporter": "python",
   "pygments_lexer": "ipython3",
   "version": "3.10.0"
  },
  "orig_nbformat": 4
 },
 "nbformat": 4,
 "nbformat_minor": 2
}
