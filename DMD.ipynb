{
 "cells": [
  {
   "cell_type": "code",
   "execution_count": 1,
   "metadata": {},
   "outputs": [],
   "source": [
    "#import necessary libraries\n",
    "import numpy as np\n",
    "import matplotlib as mpl\n",
    "import matplotlib.pyplot as plt\n",
    "import os\n",
    "import tecplot_io as tec\n",
    "import matplotlib.ticker as tck\n",
    "from scipy.integrate import solve_ivp\n",
    "from scipy.io import loadmat\n",
    "import pysindy as ps"
   ]
  },
  {
   "cell_type": "code",
   "execution_count": 2,
   "metadata": {},
   "outputs": [],
   "source": [
    "#parameters\n",
    "#Declare some variable \n",
    "nturbinex = 4\n",
    "nturbiney = 4\n",
    "nturbine = 16\n",
    "#Diameter of turbine\n",
    "D = 80\n",
    "#Other variable\n",
    "Sx = 7\n",
    "Sy = 7\n",
    "#kappa = 0.4\n",
    "#nu = 1.511e-5\n",
    "#PEX = 1.45444104333\n",
    "#PEY = 8.72664625997\n",
    "#hbar = 0.46\n",
    "#uinfty = 2.54390548295\n",
    "dt = 0.68543297937\n",
    "#Rotational angular period\n",
    "T_turb = 42.84\n",
    "U_star = 0.356\n",
    "H_hub = 70\n",
    "NPX=192\n",
    "NPY=192\n",
    "NPZ=65\n",
    "#Mean finite velocity\n",
    "U = 11.5258407161\n",
    "tis = 10000\n",
    "tie = 15000\n",
    "tii = 100\n",
    "nti = int((tie - tis) / tii + 1)"
   ]
  },
  {
   "cell_type": "code",
   "execution_count": 3,
   "metadata": {},
   "outputs": [
    {
     "name": "stdout",
     "output_type": "stream",
     "text": [
      "current working directory is: d:\\post\\LASD\n"
     ]
    }
   ],
   "source": [
    "#change working directory\n",
    "path  = 'd:\\post\\LASD'\n",
    "os.chdir(path)\n",
    "print(\"current working directory is: {0}\".format(os.getcwd()))"
   ]
  },
  {
   "cell_type": "code",
   "execution_count": 4,
   "metadata": {},
   "outputs": [],
   "source": [
    "def read_data(path, start_id, end_id, step_id):\n",
    "    \"\"\"\n",
    "    Read data from tecplot file\n",
    "    \"\"\"\n",
    "    os.chdir(path)\n",
    "    nti = int((end_id - start_id) / step_id + 1)\n",
    "    X_data = np.zeros((nti, NPY*NPX))\n",
    "    for it in range(0, nti, 1):\n",
    "        ti = tis + tii * it\n",
    "        fname = 'POST_U_2D2_{:010d}_0002.dat'.format(ti)\n",
    "        f = tec.tecplot_reader(fname, [NPY, NPX, 6], 2)\n",
    "        #reshape data into one dimension\n",
    "        u = f[:, :, 3].reshape(NPY * NPX)\n",
    "        X_data[it, :] = u\n",
    "    return X_data"
   ]
  },
  {
   "cell_type": "code",
   "execution_count": 5,
   "metadata": {},
   "outputs": [],
   "source": [
    "def get_coordinate(path):\n",
    "    \"\"\"\n",
    "    Read coordinate from tecplot file\n",
    "    \"\"\"\n",
    "    os.chdir(path)\n",
    "    fname = 'POST_U_2D2_{:010d}_0002.dat'.format(tis)\n",
    "    f = tec.tecplot_reader(fname, [NPY, NPX, 6], 2)\n",
    "    x = f[:, :, 0].reshape(NPY * NPX)\n",
    "    y = f[:, :, 1].reshape(NPY * NPX)\n",
    "    z = f[:, :, 2].reshape(NPY * NPX)\n",
    "    return x, y, z"
   ]
  },
  {
   "cell_type": "code",
   "execution_count": 6,
   "metadata": {},
   "outputs": [],
   "source": [
    "def store_data(path):\n",
    "    \"\"\"\n",
    "    Read data from tecplot file\n",
    "    \"\"\"\n",
    "    os.chdir(path)\n",
    "    \n",
    "    \n",
    "    for it in range(0, nti, 1):\n",
    "        ti = tis + tii * it\n",
    "        fname = 'POST_U_2D2_{:010d}_0002.dat'.format(ti)\n",
    "        f = tec.tecplot_reader(fname, [NPY, NPX, 6], 2)\n",
    "        #reshape data into one dimension\n",
    "        u = f[:, :, 3].reshape(NPY * NPX)\n",
    "        X_data[it, :] = u\n",
    "    return X_data"
   ]
  },
  {
   "cell_type": "code",
   "execution_count": 7,
   "metadata": {},
   "outputs": [],
   "source": [
    "#test function\n",
    "from scipy import linalg\n",
    "X_data = read_data(path + '\\POST_U_2D2_0002', tis, tie, tii)\n",
    "X = X_data[:-1, :].T # First time step\n",
    "Y = X_data[1:, :].T # Time-shifted matrix so that Y = AX\n",
    "U,S,V = linalg.svd(X)\n",
    "print(U.shape, S.shape, V.shape)\n"
   ]
  },
  {
   "cell_type": "code",
   "execution_count": null,
   "metadata": {},
   "outputs": [],
   "source": [
    "#compute DMD\n",
    "r = 21  #truncate at 21 modes\n",
    "U_r = U[:,1:r]\n",
    "S_r = S[1:r, 1:r]\n",
    "V_r = V[:,1:r]\n",
    "Atilde = U_r.dot(Y).dot(V_r.T)/S_r"
   ]
  }
 ],
 "metadata": {
  "interpreter": {
   "hash": "e31dec42d8456365a876b53d68a215d3bec5092680cc795fae3bcf047e11988c"
  },
  "kernelspec": {
   "display_name": "Python 3.10.0 64-bit",
   "language": "python",
   "name": "python3"
  },
  "language_info": {
   "codemirror_mode": {
    "name": "ipython",
    "version": 3
   },
   "file_extension": ".py",
   "mimetype": "text/x-python",
   "name": "python",
   "nbconvert_exporter": "python",
   "pygments_lexer": "ipython3",
   "version": "3.10.0"
  },
  "orig_nbformat": 4
 },
 "nbformat": 4,
 "nbformat_minor": 2
}
